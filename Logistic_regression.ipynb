{
 "cells": [
  {
   "cell_type": "code",
   "execution_count": 1,
   "metadata": {},
   "outputs": [],
   "source": [
    "import numpy as np\n",
    "import pandas as pd\n",
    "import matplotlib.pyplot as plt\n",
    "import seaborn as sns\n",
    "from sklearn.metrics import accuracy_score \n",
    "%matplotlib inline"
   ]
  },
  {
   "cell_type": "code",
   "execution_count": 2,
   "metadata": {},
   "outputs": [],
   "source": [
    "df = pd.read_csv(\"C:\\\\Users\\\\Siddharth Bingi\\\\Documents\\\\Sabir ML\\\\Assignment 1\\\\sgemm_product_dataset\\\\sgemm_product.csv\")"
   ]
  },
  {
   "cell_type": "code",
   "execution_count": 3,
   "metadata": {},
   "outputs": [
    {
     "data": {
      "text/html": [
       "<div>\n",
       "<style scoped>\n",
       "    .dataframe tbody tr th:only-of-type {\n",
       "        vertical-align: middle;\n",
       "    }\n",
       "\n",
       "    .dataframe tbody tr th {\n",
       "        vertical-align: top;\n",
       "    }\n",
       "\n",
       "    .dataframe thead th {\n",
       "        text-align: right;\n",
       "    }\n",
       "</style>\n",
       "<table border=\"1\" class=\"dataframe\">\n",
       "  <thead>\n",
       "    <tr style=\"text-align: right;\">\n",
       "      <th></th>\n",
       "      <th>MWG</th>\n",
       "      <th>NWG</th>\n",
       "      <th>KWG</th>\n",
       "      <th>MDIMC</th>\n",
       "      <th>NDIMC</th>\n",
       "      <th>MDIMA</th>\n",
       "      <th>NDIMB</th>\n",
       "      <th>KWI</th>\n",
       "      <th>VWM</th>\n",
       "      <th>VWN</th>\n",
       "      <th>STRM</th>\n",
       "      <th>STRN</th>\n",
       "      <th>SA</th>\n",
       "      <th>SB</th>\n",
       "      <th>Run1 (ms)</th>\n",
       "      <th>Run2 (ms)</th>\n",
       "      <th>Run3 (ms)</th>\n",
       "      <th>Run4 (ms)</th>\n",
       "      <th>avg_run</th>\n",
       "    </tr>\n",
       "  </thead>\n",
       "  <tbody>\n",
       "    <tr>\n",
       "      <td>0</td>\n",
       "      <td>16</td>\n",
       "      <td>16</td>\n",
       "      <td>16</td>\n",
       "      <td>8</td>\n",
       "      <td>8</td>\n",
       "      <td>8</td>\n",
       "      <td>8</td>\n",
       "      <td>2</td>\n",
       "      <td>1</td>\n",
       "      <td>1</td>\n",
       "      <td>0</td>\n",
       "      <td>0</td>\n",
       "      <td>0</td>\n",
       "      <td>0</td>\n",
       "      <td>115.26</td>\n",
       "      <td>115.87</td>\n",
       "      <td>118.55</td>\n",
       "      <td>115.80</td>\n",
       "      <td>116.3700</td>\n",
       "    </tr>\n",
       "    <tr>\n",
       "      <td>1</td>\n",
       "      <td>16</td>\n",
       "      <td>16</td>\n",
       "      <td>16</td>\n",
       "      <td>8</td>\n",
       "      <td>8</td>\n",
       "      <td>8</td>\n",
       "      <td>8</td>\n",
       "      <td>2</td>\n",
       "      <td>1</td>\n",
       "      <td>1</td>\n",
       "      <td>0</td>\n",
       "      <td>0</td>\n",
       "      <td>0</td>\n",
       "      <td>1</td>\n",
       "      <td>78.13</td>\n",
       "      <td>78.25</td>\n",
       "      <td>79.25</td>\n",
       "      <td>79.19</td>\n",
       "      <td>78.7050</td>\n",
       "    </tr>\n",
       "    <tr>\n",
       "      <td>2</td>\n",
       "      <td>16</td>\n",
       "      <td>16</td>\n",
       "      <td>16</td>\n",
       "      <td>8</td>\n",
       "      <td>8</td>\n",
       "      <td>8</td>\n",
       "      <td>8</td>\n",
       "      <td>2</td>\n",
       "      <td>1</td>\n",
       "      <td>1</td>\n",
       "      <td>0</td>\n",
       "      <td>0</td>\n",
       "      <td>1</td>\n",
       "      <td>0</td>\n",
       "      <td>79.84</td>\n",
       "      <td>80.69</td>\n",
       "      <td>80.76</td>\n",
       "      <td>80.97</td>\n",
       "      <td>80.5650</td>\n",
       "    </tr>\n",
       "    <tr>\n",
       "      <td>3</td>\n",
       "      <td>16</td>\n",
       "      <td>16</td>\n",
       "      <td>16</td>\n",
       "      <td>8</td>\n",
       "      <td>8</td>\n",
       "      <td>8</td>\n",
       "      <td>8</td>\n",
       "      <td>2</td>\n",
       "      <td>1</td>\n",
       "      <td>1</td>\n",
       "      <td>0</td>\n",
       "      <td>0</td>\n",
       "      <td>1</td>\n",
       "      <td>1</td>\n",
       "      <td>84.32</td>\n",
       "      <td>89.90</td>\n",
       "      <td>86.75</td>\n",
       "      <td>85.58</td>\n",
       "      <td>86.6375</td>\n",
       "    </tr>\n",
       "    <tr>\n",
       "      <td>4</td>\n",
       "      <td>16</td>\n",
       "      <td>16</td>\n",
       "      <td>16</td>\n",
       "      <td>8</td>\n",
       "      <td>8</td>\n",
       "      <td>8</td>\n",
       "      <td>8</td>\n",
       "      <td>2</td>\n",
       "      <td>1</td>\n",
       "      <td>1</td>\n",
       "      <td>0</td>\n",
       "      <td>1</td>\n",
       "      <td>0</td>\n",
       "      <td>0</td>\n",
       "      <td>115.13</td>\n",
       "      <td>121.98</td>\n",
       "      <td>122.73</td>\n",
       "      <td>114.81</td>\n",
       "      <td>118.6625</td>\n",
       "    </tr>\n",
       "  </tbody>\n",
       "</table>\n",
       "</div>"
      ],
      "text/plain": [
       "   MWG  NWG  KWG  MDIMC  NDIMC  MDIMA  NDIMB  KWI  VWM  VWN  STRM  STRN  SA  \\\n",
       "0   16   16   16      8      8      8      8    2    1    1     0     0   0   \n",
       "1   16   16   16      8      8      8      8    2    1    1     0     0   0   \n",
       "2   16   16   16      8      8      8      8    2    1    1     0     0   1   \n",
       "3   16   16   16      8      8      8      8    2    1    1     0     0   1   \n",
       "4   16   16   16      8      8      8      8    2    1    1     0     1   0   \n",
       "\n",
       "   SB  Run1 (ms)  Run2 (ms)  Run3 (ms)  Run4 (ms)   avg_run  \n",
       "0   0     115.26     115.87     118.55     115.80  116.3700  \n",
       "1   1      78.13      78.25      79.25      79.19   78.7050  \n",
       "2   0      79.84      80.69      80.76      80.97   80.5650  \n",
       "3   1      84.32      89.90      86.75      85.58   86.6375  \n",
       "4   0     115.13     121.98     122.73     114.81  118.6625  "
      ]
     },
     "execution_count": 3,
     "metadata": {},
     "output_type": "execute_result"
    }
   ],
   "source": [
    "df[\"avg_run\"] = df.iloc[:,14:].mean(axis = 1)\n",
    "df.head()"
   ]
  },
  {
   "cell_type": "code",
   "execution_count": 4,
   "metadata": {},
   "outputs": [],
   "source": [
    "median_run = df['avg_run'].median()\n",
    "df.loc[df['avg_run'] >= median_run, 'run_class'] = 1\n",
    "df.loc[df['avg_run'] < median_run, 'run_class'] = 0"
   ]
  },
  {
   "cell_type": "code",
   "execution_count": 5,
   "metadata": {
    "scrolled": true
   },
   "outputs": [
    {
     "data": {
      "text/html": [
       "<div>\n",
       "<style scoped>\n",
       "    .dataframe tbody tr th:only-of-type {\n",
       "        vertical-align: middle;\n",
       "    }\n",
       "\n",
       "    .dataframe tbody tr th {\n",
       "        vertical-align: top;\n",
       "    }\n",
       "\n",
       "    .dataframe thead th {\n",
       "        text-align: right;\n",
       "    }\n",
       "</style>\n",
       "<table border=\"1\" class=\"dataframe\">\n",
       "  <thead>\n",
       "    <tr style=\"text-align: right;\">\n",
       "      <th></th>\n",
       "      <th>MWG</th>\n",
       "      <th>NWG</th>\n",
       "      <th>KWG</th>\n",
       "      <th>MDIMC</th>\n",
       "      <th>NDIMC</th>\n",
       "      <th>MDIMA</th>\n",
       "      <th>NDIMB</th>\n",
       "      <th>KWI</th>\n",
       "      <th>VWM</th>\n",
       "      <th>VWN</th>\n",
       "      <th>STRM</th>\n",
       "      <th>STRN</th>\n",
       "      <th>SA</th>\n",
       "      <th>SB</th>\n",
       "      <th>run_class</th>\n",
       "    </tr>\n",
       "  </thead>\n",
       "  <tbody>\n",
       "    <tr>\n",
       "      <td>0</td>\n",
       "      <td>16</td>\n",
       "      <td>16</td>\n",
       "      <td>16</td>\n",
       "      <td>8</td>\n",
       "      <td>8</td>\n",
       "      <td>8</td>\n",
       "      <td>8</td>\n",
       "      <td>2</td>\n",
       "      <td>1</td>\n",
       "      <td>1</td>\n",
       "      <td>0</td>\n",
       "      <td>0</td>\n",
       "      <td>0</td>\n",
       "      <td>0</td>\n",
       "      <td>1.0</td>\n",
       "    </tr>\n",
       "    <tr>\n",
       "      <td>1</td>\n",
       "      <td>16</td>\n",
       "      <td>16</td>\n",
       "      <td>16</td>\n",
       "      <td>8</td>\n",
       "      <td>8</td>\n",
       "      <td>8</td>\n",
       "      <td>8</td>\n",
       "      <td>2</td>\n",
       "      <td>1</td>\n",
       "      <td>1</td>\n",
       "      <td>0</td>\n",
       "      <td>0</td>\n",
       "      <td>0</td>\n",
       "      <td>1</td>\n",
       "      <td>1.0</td>\n",
       "    </tr>\n",
       "    <tr>\n",
       "      <td>2</td>\n",
       "      <td>16</td>\n",
       "      <td>16</td>\n",
       "      <td>16</td>\n",
       "      <td>8</td>\n",
       "      <td>8</td>\n",
       "      <td>8</td>\n",
       "      <td>8</td>\n",
       "      <td>2</td>\n",
       "      <td>1</td>\n",
       "      <td>1</td>\n",
       "      <td>0</td>\n",
       "      <td>0</td>\n",
       "      <td>1</td>\n",
       "      <td>0</td>\n",
       "      <td>1.0</td>\n",
       "    </tr>\n",
       "    <tr>\n",
       "      <td>3</td>\n",
       "      <td>16</td>\n",
       "      <td>16</td>\n",
       "      <td>16</td>\n",
       "      <td>8</td>\n",
       "      <td>8</td>\n",
       "      <td>8</td>\n",
       "      <td>8</td>\n",
       "      <td>2</td>\n",
       "      <td>1</td>\n",
       "      <td>1</td>\n",
       "      <td>0</td>\n",
       "      <td>0</td>\n",
       "      <td>1</td>\n",
       "      <td>1</td>\n",
       "      <td>1.0</td>\n",
       "    </tr>\n",
       "    <tr>\n",
       "      <td>4</td>\n",
       "      <td>16</td>\n",
       "      <td>16</td>\n",
       "      <td>16</td>\n",
       "      <td>8</td>\n",
       "      <td>8</td>\n",
       "      <td>8</td>\n",
       "      <td>8</td>\n",
       "      <td>2</td>\n",
       "      <td>1</td>\n",
       "      <td>1</td>\n",
       "      <td>0</td>\n",
       "      <td>1</td>\n",
       "      <td>0</td>\n",
       "      <td>0</td>\n",
       "      <td>1.0</td>\n",
       "    </tr>\n",
       "  </tbody>\n",
       "</table>\n",
       "</div>"
      ],
      "text/plain": [
       "   MWG  NWG  KWG  MDIMC  NDIMC  MDIMA  NDIMB  KWI  VWM  VWN  STRM  STRN  SA  \\\n",
       "0   16   16   16      8      8      8      8    2    1    1     0     0   0   \n",
       "1   16   16   16      8      8      8      8    2    1    1     0     0   0   \n",
       "2   16   16   16      8      8      8      8    2    1    1     0     0   1   \n",
       "3   16   16   16      8      8      8      8    2    1    1     0     0   1   \n",
       "4   16   16   16      8      8      8      8    2    1    1     0     1   0   \n",
       "\n",
       "   SB  run_class  \n",
       "0   0        1.0  \n",
       "1   1        1.0  \n",
       "2   0        1.0  \n",
       "3   1        1.0  \n",
       "4   0        1.0  "
      ]
     },
     "execution_count": 5,
     "metadata": {},
     "output_type": "execute_result"
    }
   ],
   "source": [
    "df.drop(['Run1 (ms)', 'Run2 (ms)','Run3 (ms)', 'Run4 (ms)', 'avg_run'], axis = 1, inplace = True)\n",
    "df.head()"
   ]
  },
  {
   "cell_type": "code",
   "execution_count": 18,
   "metadata": {},
   "outputs": [],
   "source": [
    "# defining feature matrix(X) and response vector(y) \n",
    "X = df.iloc[:, 0:14]\n",
    "y = df[\"run_class\"]\n",
    "  \n",
    "\n",
    "\n",
    "# splitting X and y into training and testing sets \n",
    "from sklearn.model_selection import train_test_split \n",
    "from sklearn.linear_model import LinearRegression\n",
    "X_train, X_test, y_train, y_test = train_test_split(X, y, test_size=0.3, \n",
    "                                                    random_state=10) \n",
    "\n",
    "from sklearn.preprocessing import StandardScaler\n",
    "scaler = StandardScaler()\n",
    "X_train = scaler.fit_transform(X_train)\n",
    "\n",
    "\n",
    "scaler = StandardScaler()\n",
    "X_test = scaler.fit_transform(X_test)\n",
    "one_column = np.ones((X_test.shape[0],1))\n",
    "X_test = np.concatenate((one_column, X_test), axis = 1)\n",
    "y_test = np.array(y_test).reshape((y_test.shape[0],1))"
   ]
  },
  {
   "cell_type": "code",
   "execution_count": 7,
   "metadata": {},
   "outputs": [],
   "source": [
    "def sigmoid(X,theta):\n",
    "    z = np.exp(X @ theta.T)\n",
    "    y_hat = (z/(1+z))\n",
    "    return y_hat"
   ]
  },
  {
   "cell_type": "code",
   "execution_count": 8,
   "metadata": {},
   "outputs": [],
   "source": [
    "def costFunction(y, y_hat):\n",
    "    cost = (-1/len(y))*np.sum((y * np.log(y_hat)) + ((1 - y) * np.log(1 - y_hat)),axis=0)\n",
    "    return cost"
   ]
  },
  {
   "cell_type": "code",
   "execution_count": 16,
   "metadata": {},
   "outputs": [],
   "source": [
    "# gradient descent algorithm\n",
    "def gradientDescent(X,y,theta,iterations,alpha, check_tol, tolerance=10**-3):\n",
    "    cost_train = []\n",
    "    cost_test = []\n",
    "    \n",
    "    for i in range(iterations):\n",
    "        theta = theta - (alpha/len(X_train)) * np.sum(X * (sigmoid(X,theta) - y), axis=0)\n",
    "        #cost[i] = costFunction(y, sigmoid(X,theta))\n",
    "        cost = costFunction(y, sigmoid(X,theta))\n",
    "        cost_train.append(cost)\n",
    "        \n",
    "        cost = costFunction(y_test, sigmoid(X_test,theta))\n",
    "        cost_test.append(cost)\n",
    "        \n",
    "        if check_tol:\n",
    "            if (i>0) and(abs((cost_train[i]-cost_train[i-1])/cost_train[i-1]) < tolerance).any():\n",
    "                print(\"Gradient Descent algorithm converged after\", i+1, \"Iterations\")\n",
    "                break\n",
    "            \n",
    "    \n",
    "    return theta,cost_train, cost_test"
   ]
  },
  {
   "cell_type": "code",
   "execution_count": 10,
   "metadata": {},
   "outputs": [],
   "source": [
    "def logistic_regression(X, y, alpha, iterations, check_tol=False, tolerance=10**-3):\n",
    "    n = X.shape[1]\n",
    "    one_column = np.ones((X.shape[0],1))\n",
    "    X = np.concatenate((one_column, X), axis = 1)\n",
    "    theta = np.zeros((1,n+1))\n",
    "    y = np.array(y).reshape((y.shape[0],1))\n",
    "    theta, cost_train, cost_test = gradientDescent(X,y,theta,iterations,alpha,check_tol,tolerance)\n",
    "    \n",
    "    return theta,cost_train, cost_test"
   ]
  },
  {
   "cell_type": "code",
   "execution_count": 21,
   "metadata": {},
   "outputs": [],
   "source": [
    "a,b,c = logistic_regression(X_train, y_train, 0.01, 10)"
   ]
  },
  {
   "cell_type": "code",
   "execution_count": 27,
   "metadata": {},
   "outputs": [],
   "source": [
    "def test(X_test,theta):\n",
    "    return sigmoid(X_test, theta)"
   ]
  },
  {
   "cell_type": "code",
   "execution_count": 29,
   "metadata": {},
   "outputs": [],
   "source": [
    "y_predicted = test(X_test, final_theta[0])\n",
    "\n",
    "log_df = pd.DataFrame(y_test, columns=['y_actual']) \n",
    "log_df = pd.concat([log_df, pd.DataFrame(y_predicted)], axis=1, ignore_index=True)\n",
    "log_df.columns = ['y_actual', 'y_hat']\n",
    "\n",
    "theshold_val = 0.5\n",
    "log_df.loc[log_df['y_hat'] >= theshold_val, 'y_pred'] = 1\n",
    "log_df.loc[log_df['y_hat'] < theshold_val, 'y_pred'] = 0"
   ]
  },
  {
   "cell_type": "code",
   "execution_count": 34,
   "metadata": {},
   "outputs": [
    {
     "name": "stdout",
     "output_type": "stream",
     "text": [
      "Confusion Matrix :\n",
      "[[28581  7528]\n",
      " [ 8578 27793]]\n",
      "Accuracy Score : 0.7777869757174393\n",
      "Report : \n",
      "              precision    recall  f1-score   support\n",
      "\n",
      "         0.0       0.77      0.79      0.78     36109\n",
      "         1.0       0.79      0.76      0.78     36371\n",
      "\n",
      "    accuracy                           0.78     72480\n",
      "   macro avg       0.78      0.78      0.78     72480\n",
      "weighted avg       0.78      0.78      0.78     72480\n",
      "\n"
     ]
    }
   ],
   "source": [
    "# Python script for confusion matrix creation. \n",
    "from sklearn.metrics import confusion_matrix \n",
    "from sklearn.metrics import accuracy_score \n",
    "from sklearn.metrics import classification_report \n",
    "\n",
    "results = confusion_matrix(log_df['y_actual'], log_df['y_pred']) \n",
    "print ('Confusion Matrix :')\n",
    "print(results) \n",
    "print ('Accuracy Score :',accuracy_score(log_df['y_actual'], log_df['y_pred']) )\n",
    "print ('Report : ')\n",
    "print (classification_report(log_df['y_actual'], log_df['y_pred']) )\n"
   ]
  },
  {
   "cell_type": "code",
   "execution_count": 36,
   "metadata": {
    "scrolled": true
   },
   "outputs": [
    {
     "name": "stdout",
     "output_type": "stream",
     "text": [
      "\n",
      "######---- Iteration with alpha value 0.0001 -----#####\n",
      "\n",
      "######---- Iteration with alpha value 0.001 -----#####\n",
      "\n",
      "######---- Iteration with alpha value 0.01 -----#####\n",
      "\n",
      "######---- Iteration with alpha value 0.1 -----#####\n"
     ]
    }
   ],
   "source": [
    "alpha_values = [0.0001, 0.001, 0.01, 0.1]\n",
    "\n",
    "alpha_train_theta = []\n",
    "alpha_train_cost = []\n",
    "\n",
    "alpha_test_cost = []\n",
    "\n",
    "\n",
    "for i in range(len(alpha_values)):\n",
    "    print(\"\\n######---- Iteration with alpha value\", alpha_values[i],\"-----#####\")\n",
    "    \n",
    "    theta, trainCost, testCost = logistic_regression(X_train, y_train, alpha_values[i], 10000, False)\n",
    "    \n",
    "    alpha_train_theta.append(theta)\n",
    "    alpha_train_cost.append(trainCost)\n",
    "    \n",
    "    alpha_test_cost.append(testCost)"
   ]
  },
  {
   "cell_type": "code",
   "execution_count": 45,
   "metadata": {
    "scrolled": true
   },
   "outputs": [
    {
     "data": {
      "text/plain": [
       "array([0.62672614])"
      ]
     },
     "execution_count": 45,
     "metadata": {},
     "output_type": "execute_result"
    }
   ],
   "source": [
    "alpha_train_cost[0][-1]"
   ]
  },
  {
   "cell_type": "code",
   "execution_count": 44,
   "metadata": {},
   "outputs": [
    {
     "data": {
      "text/plain": [
       "array([0.62644138])"
      ]
     },
     "execution_count": 44,
     "metadata": {},
     "output_type": "execute_result"
    }
   ],
   "source": [
    "alpha_test_cost[0][-1]"
   ]
  },
  {
   "cell_type": "code",
   "execution_count": 37,
   "metadata": {},
   "outputs": [
    {
     "data": {
      "image/png": "[encoded data removed]",
      "text/plain": [
       "<Figure size 720x504 with 4 Axes>"
      ]
     },
     "metadata": {
      "needs_background": "light"
     },
     "output_type": "display_data"
    }
   ],
   "source": [
    "##### Plot for Cost vs Iterations for Each Alpha\n",
    "\n",
    "fig = plt.figure(figsize=(10,7))\n",
    "\n",
    "ax1 = fig.add_subplot(2,2,1)\n",
    "\n",
    "ax1.plot(range(len(alpha_train_cost[0])),alpha_train_cost[0],'-b', label=\"Train\")\n",
    "ax1.plot(range(len(alpha_test_cost[0])),alpha_test_cost[0],'-r', label=\"Test\")\n",
    "ax1.legend(loc=\"upper right\")\n",
    "ax1.set_title(\"Cost vs Iterations for Alpha = 0.0001\")\n",
    "ax1.set_ylabel(\"Cost\")\n",
    "ax1.set_xlabel(\"Iterations\")\n",
    "ax1.set_xticks(list(range(0,11000, 1000)))\n",
    "plt.xticks(rotation=90)\n",
    "\n",
    "ax1 = fig.add_subplot(2,2,2)\n",
    "\n",
    "ax1.plot(range(len(alpha_train_cost[1])),alpha_train_cost[1],'-b', label=\"Train\")\n",
    "ax1.plot(range(len(alpha_test_cost[1])),alpha_test_cost[1],'-r', label=\"Test\")\n",
    "ax1.legend(loc=\"upper right\")\n",
    "ax1.set_title(\"Cost vs Iterations for Alpha = 0.001\")\n",
    "ax1.set_ylabel(\"Cost\")\n",
    "ax1.set_xlabel(\"Iterations\")\n",
    "ax1.set_xticks(list(range(0,11000, 1000)))\n",
    "plt.xticks(rotation=90)\n",
    "\n",
    "\n",
    "ax1 = fig.add_subplot(2,2,3)\n",
    "\n",
    "ax1.plot(range(len(alpha_train_cost[2])),alpha_train_cost[2],'-b', label=\"Train\")\n",
    "ax1.plot(range(len(alpha_test_cost[2])),alpha_test_cost[2],'-r', label=\"Test\")\n",
    "ax1.legend(loc=\"upper right\")\n",
    "ax1.set_title(\"Cost vs Iterations for Alpha = 0.01\")\n",
    "ax1.set_ylabel(\"Cost\")\n",
    "ax1.set_xlabel(\"Iterations\")\n",
    "ax1.set_xticks(list(range(0,11000, 1000)))\n",
    "plt.xticks(rotation=90)\n",
    "\n",
    "ax1 = fig.add_subplot(2,2,4)\n",
    "\n",
    "ax1.plot(range(len(alpha_train_cost[3])),alpha_train_cost[3],'-b', label=\"Train\")\n",
    "ax1.plot(range(len(alpha_test_cost[3])),alpha_test_cost[3],'-r', label=\"Test\")\n",
    "ax1.legend(loc=\"upper right\")\n",
    "ax1.set_title(\"Cost vs Iterations for Alpha = 0.1\")\n",
    "ax1.set_ylabel(\"Cost\")\n",
    "ax1.set_xlabel(\"Iterations\")\n",
    "ax1.set_xticks(list(range(0,11000, 1000)))\n",
    "plt.xticks(rotation=90)\n",
    "\n",
    "fig.tight_layout()\n",
    "plt.show()"
   ]
  },
  {
   "cell_type": "code",
   "execution_count": 48,
   "metadata": {},
   "outputs": [
    {
     "data": {
      "image/png": "[encoded data removed]",
      "text/plain": [
       "<Figure size 720x504 with 2 Axes>"
      ]
     },
     "metadata": {
      "needs_background": "light"
     },
     "output_type": "display_data"
    }
   ],
   "source": [
    "#### Plots for Cost vs Iterations for Train and Test separately\n",
    "\n",
    "fig = plt.figure(figsize=(10,7))\n",
    "\n",
    "ax2 = fig.add_subplot(1,2,1)\n",
    "\n",
    "ax2.plot(range(len(alpha_train_cost[0])),alpha_train_cost[0],'-b', label=\"0.0001\")\n",
    "ax2.plot(range(len(alpha_train_cost[1])),alpha_train_cost[1],'-r', label=\"0.001\")\n",
    "ax2.plot(range(len(alpha_train_cost[2])),alpha_train_cost[2],'-g', label=\"0.01\")\n",
    "ax2.plot(range(len(alpha_train_cost[3])),alpha_train_cost[3],'-y', label=\"0.1\")\n",
    "ax2.legend(loc=\"upper right\")\n",
    "ax2.set_title(\"Cost vs Iterations for Train Set\")\n",
    "ax2.set_ylabel(\"Cost\")\n",
    "ax2.set_xlabel(\"Iterations\")\n",
    "ax2.set_xticks(list(range(0,11000, 1000)))\n",
    "plt.xticks(rotation=90)\n",
    "\n",
    "\n",
    "ax2 = fig.add_subplot(1,2,2)\n",
    "\n",
    "ax2.plot(range(len(alpha_test_cost[0])),alpha_test_cost[0],'-b', label=\"0.0001\")\n",
    "ax2.plot(range(len(alpha_test_cost[1])),alpha_test_cost[1],'-r', label=\"0.001\")\n",
    "ax2.plot(range(len(alpha_test_cost[2])),alpha_test_cost[2],'-g', label=\"0.01\")\n",
    "ax2.plot(range(len(alpha_test_cost[3])),alpha_test_cost[3],'-y', label=\"0.1\")\n",
    "ax2.legend(loc=\"upper right\")\n",
    "ax2.set_title(\"Cost vs Iterations for Test Set\")\n",
    "ax2.set_ylabel(\"Cost\")\n",
    "ax2.set_xlabel(\"Iterations\")\n",
    "ax2.set_xticks(list(range(0,11000, 1000)))\n",
    "plt.xticks(rotation=90)\n",
    "\n",
    "fig.tight_layout()\n",
    "plt.show()"
   ]
  },
  {
   "cell_type": "code",
   "execution_count": 77,
   "metadata": {},
   "outputs": [],
   "source": [
    "alpha_test_accuracy = []\n",
    "for i in range(len(alpha_values)):\n",
    "    y_predicted = test(X_test, alpha_train_theta[i])\n",
    "\n",
    "    log_df = pd.DataFrame(y_test, columns=['y_actual']) \n",
    "    log_df = pd.concat([log_df, pd.DataFrame(y_predicted)], axis=1, ignore_index=True)\n",
    "    log_df.columns = ['y_actual', 'y_hat']\n",
    "\n",
    "    theshold_val = 0.5\n",
    "    log_df.loc[log_df['y_hat'] >= theshold_val, 'y_pred'] = 1\n",
    "    log_df.loc[log_df['y_hat'] < theshold_val, 'y_pred'] = 0\n",
    "\n",
    "    acc = accuracy_score(log_df['y_actual'], log_df['y_pred'])\n",
    "    alpha_test_accuracy.append(acc)"
   ]
  },
  {
   "cell_type": "code",
   "execution_count": 78,
   "metadata": {},
   "outputs": [],
   "source": [
    "alpha_train_accuracy = []\n",
    "\n",
    "one_column = np.ones((X_train.shape[0],1))\n",
    "training_set = np.concatenate((one_column, X_train), axis = 1)\n",
    "test_set = np.array(y_train).reshape((y_train.shape[0],1))\n",
    "\n",
    "for i in range(len(alpha_values)):\n",
    "    y_predicted = test(training_set, alpha_train_theta[i])\n",
    "\n",
    "    log_df = pd.DataFrame(test_set, columns=['y_actual']) \n",
    "    log_df = pd.concat([log_df, pd.DataFrame(y_predicted)], axis=1, ignore_index=True)\n",
    "    log_df.columns = ['y_actual', 'y_hat']\n",
    "\n",
    "    theshold_val = 0.5\n",
    "    log_df.loc[log_df['y_hat'] >= theshold_val, 'y_pred'] = 1\n",
    "    log_df.loc[log_df['y_hat'] < theshold_val, 'y_pred'] = 0\n",
    "\n",
    "    acc = accuracy_score(log_df['y_actual'], log_df['y_pred'])\n",
    "    alpha_train_accuracy.append(acc)"
   ]
  },
  {
   "cell_type": "code",
   "execution_count": 84,
   "metadata": {},
   "outputs": [],
   "source": [
    "alpha_test_error = np.ones(len(alpha_test_accuracy)) - alpha_test_accuracy\n",
    "alpha_train_error = np.ones(len(alpha_train_accuracy)) - alpha_train_accuracy"
   ]
  },
  {
   "cell_type": "code",
   "execution_count": null,
   "metadata": {},
   "outputs": [],
   "source": []
  },
  {
   "cell_type": "code",
   "execution_count": 93,
   "metadata": {
    "scrolled": false
   },
   "outputs": [
    {
     "data": {
      "image/png": "[encoded data removed]",
      "text/plain": [
       "<Figure size 720x504 with 2 Axes>"
      ]
     },
     "metadata": {
      "needs_background": "light"
     },
     "output_type": "display_data"
    }
   ],
   "source": [
    "fig = plt.figure(figsize= (10,7))\n",
    "\n",
    "acc_plot = fig.add_subplot(1,2,1)\n",
    "\n",
    "acc_plot.plot(np.log10(alpha_values),alpha_train_accuracy,'-b', label='Train')\n",
    "acc_plot.plot(np.log10(alpha_values),alpha_test_accuracy,'-r', label='Test')\n",
    "acc_plot.legend(loc=\"upper right\")\n",
    "acc_plot.set_ylabel(\"Accuracy\")\n",
    "acc_plot.set_xlabel(\"Log(Alpha)\")\n",
    "acc_plot.set_title(\"Accuracy vs Log(Alpha)\")\n",
    "\n",
    "\n",
    "err_plot = fig.add_subplot(1,2,2)\n",
    "\n",
    "err_plot.plot(np.log10(alpha_values),alpha_train_error,'-b', label='Train')\n",
    "err_plot.plot(np.log10(alpha_values),alpha_test_error,'-r', label='Test')\n",
    "err_plot.legend(loc=\"upper right\")\n",
    "err_plot.set_ylabel(\"Error\")\n",
    "err_plot.set_xlabel(\"Log(Alpha)\")\n",
    "err_plot.set_title(\"Error vs Log(Alpha)\")\n",
    "\n",
    "fig.tight_layout()\n",
    "plt.show()"
   ]
  },
  {
   "cell_type": "code",
   "execution_count": null,
   "metadata": {},
   "outputs": [],
   "source": []
  },
  {
   "cell_type": "markdown",
   "metadata": {},
   "source": [
    "# Question 2"
   ]
  },
  {
   "cell_type": "code",
   "execution_count": 68,
   "metadata": {},
   "outputs": [
    {
     "name": "stdout",
     "output_type": "stream",
     "text": [
      "The best alpha is 0.1\n"
     ]
    }
   ],
   "source": [
    "print(\"The best alpha is 0.1\")"
   ]
  },
  {
   "cell_type": "code",
   "execution_count": 105,
   "metadata": {},
   "outputs": [],
   "source": [
    "theshold_val = [0.3,0.4,0.5,0.6,0.7]\n",
    "\n",
    "thresh_test_accuracy = []\n",
    "for i in range(len(theshold_val)):\n",
    "    y_predicted = test(X_test, alpha_train_theta[3])\n",
    "\n",
    "    log_df = pd.DataFrame(y_test, columns=['y_actual']) \n",
    "    log_df = pd.concat([log_df, pd.DataFrame(y_predicted)], axis=1, ignore_index=True)\n",
    "    log_df.columns = ['y_actual', 'y_hat']\n",
    "\n",
    "    log_df.loc[log_df['y_hat'] >= theshold_val[i], 'y_pred'] = 1\n",
    "    log_df.loc[log_df['y_hat'] < theshold_val[i], 'y_pred'] = 0\n",
    "\n",
    "    acc = accuracy_score(log_df['y_actual'], log_df['y_pred'])\n",
    "    thresh_test_accuracy.append(acc)"
   ]
  },
  {
   "cell_type": "code",
   "execution_count": 106,
   "metadata": {},
   "outputs": [],
   "source": [
    "theshold_val = [0.3,0.4,0.5,0.6, 0.7]\n",
    "\n",
    "thresh_train_accuracy = []\n",
    "\n",
    "one_column = np.ones((X_train.shape[0],1))\n",
    "training_set = np.concatenate((one_column, X_train), axis = 1)\n",
    "test_set = np.array(y_train).reshape((y_train.shape[0],1))\n",
    "\n",
    "for i in range(len(theshold_val)):\n",
    "    y_predicted = test(training_set, alpha_train_theta[3])\n",
    "\n",
    "    log_df = pd.DataFrame(test_set, columns=['y_actual']) \n",
    "    log_df = pd.concat([log_df, pd.DataFrame(y_predicted)], axis=1, ignore_index=True)\n",
    "    log_df.columns = ['y_actual', 'y_hat']\n",
    "\n",
    "    log_df.loc[log_df['y_hat'] >= theshold_val[i], 'y_pred'] = 1\n",
    "    log_df.loc[log_df['y_hat'] < theshold_val[i], 'y_pred'] = 0\n",
    "\n",
    "    acc = accuracy_score(log_df['y_actual'], log_df['y_pred'])\n",
    "    thresh_train_accuracy.append(acc)"
   ]
  },
  {
   "cell_type": "code",
   "execution_count": 107,
   "metadata": {},
   "outputs": [],
   "source": [
    "thresh_test_error = np.ones(len(thresh_test_accuracy)) - thresh_test_accuracy\n",
    "thresh_train_error = np.ones(len(thresh_train_accuracy)) - thresh_train_accuracy"
   ]
  },
  {
   "cell_type": "code",
   "execution_count": 108,
   "metadata": {},
   "outputs": [
    {
     "data": {
      "image/png": "[encoded data removed]",
      "text/plain": [
       "<Figure size 720x504 with 2 Axes>"
      ]
     },
     "metadata": {
      "needs_background": "light"
     },
     "output_type": "display_data"
    }
   ],
   "source": [
    "fig = plt.figure(figsize= (10,7))\n",
    "\n",
    "acc_plot = fig.add_subplot(1,2,1)\n",
    "\n",
    "acc_plot.plot(theshold_val,thresh_train_accuracy,'-b', label='Train')\n",
    "acc_plot.plot(theshold_val,thresh_test_accuracy,'-r', label='Test')\n",
    "acc_plot.legend(loc=\"upper right\")\n",
    "acc_plot.set_ylabel(\"Accuracy\")\n",
    "acc_plot.set_xlabel(\"Threshold\")\n",
    "acc_plot.set_title(\"Accuracy vs Threshold\")\n",
    "\n",
    "\n",
    "err_plot = fig.add_subplot(1,2,2)\n",
    "\n",
    "err_plot.plot(theshold_val,thresh_train_error,'-b', label='Train')\n",
    "err_plot.plot(theshold_val,thresh_test_error,'-r', label='Test')\n",
    "err_plot.legend(loc=\"upper right\")\n",
    "err_plot.set_ylabel(\"Error\")\n",
    "err_plot.set_xlabel(\"Threshold\")\n",
    "err_plot.set_title(\"Error vs Threshold\")\n",
    "\n",
    "fig.tight_layout()\n",
    "plt.show()"
   ]
  },
  {
   "cell_type": "code",
   "execution_count": null,
   "metadata": {},
   "outputs": [],
   "source": []
  },
  {
   "cell_type": "code",
   "execution_count": 70,
   "metadata": {},
   "outputs": [
    {
     "name": "stdout",
     "output_type": "stream",
     "text": [
      "\n",
      "######---- Iteration with alpha value 1e-07 -----#####\n",
      "Gradient Descent algorithm converged after 885 Iterations\n",
      "\n",
      "######---- Iteration with alpha value 1e-06 -----#####\n",
      "Gradient Descent algorithm converged after 655 Iterations\n",
      "\n",
      "######---- Iteration with alpha value 1e-05 -----#####\n",
      "Gradient Descent algorithm converged after 434 Iterations\n",
      "\n",
      "######---- Iteration with alpha value 0.0001 -----#####\n",
      "Gradient Descent algorithm converged after 234 Iterations\n",
      "\n",
      "######---- Iteration with alpha value 0.001 -----#####\n",
      "Gradient Descent algorithm converged after 81 Iterations\n",
      "\n",
      "######---- Iteration with alpha value 0.01 -----#####\n",
      "Gradient Descent algorithm converged after 6 Iterations\n"
     ]
    }
   ],
   "source": [
    "alpha_values = 0.1\n",
    "\n",
    "tol_val = [10**-7, 10**-6, 10**-5, 10**-4, 10**-3, 10**-2]\n",
    "\n",
    "tol_train_theta = []\n",
    "tol_train_cost = []\n",
    "\n",
    "tol_test_cost = []\n",
    "\n",
    "\n",
    "for i in range(len(tol_val)):\n",
    "    print(\"\\n######---- Iteration with tolerance value\", tol_val[i],\"-----#####\")\n",
    "    \n",
    "    theta, trainCost, testCost = logistic_regression(X_train, y_train, 0.1, 10000, True, tol_val[i])\n",
    "    \n",
    "    tol_train_theta.append(theta)\n",
    "    tol_train_cost.append(trainCost)\n",
    "    \n",
    "    tol_test_cost.append(testCost)"
   ]
  },
  {
   "cell_type": "code",
   "execution_count": 90,
   "metadata": {},
   "outputs": [],
   "source": [
    "tol_test_accuracy = []\n",
    "for i in range(len(tol_val)):\n",
    "    y_predicted = test(X_test, tol_train_theta[i])\n",
    "\n",
    "    log_df = pd.DataFrame(y_test, columns=['y_actual']) \n",
    "    log_df = pd.concat([log_df, pd.DataFrame(y_predicted)], axis=1, ignore_index=True)\n",
    "    log_df.columns = ['y_actual', 'y_hat']\n",
    "\n",
    "    theshold_val = 0.5\n",
    "    log_df.loc[log_df['y_hat'] >= theshold_val, 'y_pred'] = 1\n",
    "    log_df.loc[log_df['y_hat'] < theshold_val, 'y_pred'] = 0\n",
    "\n",
    "    acc = accuracy_score(log_df['y_actual'], log_df['y_pred'])\n",
    "    tol_test_accuracy.append(acc)"
   ]
  },
  {
   "cell_type": "code",
   "execution_count": 109,
   "metadata": {},
   "outputs": [],
   "source": [
    "tol_train_accuracy = []\n",
    "\n",
    "one_column = np.ones((X_train.shape[0],1))\n",
    "training_set = np.concatenate((one_column, X_train), axis = 1)\n",
    "test_set = np.array(y_train).reshape((y_train.shape[0],1))\n",
    "\n",
    "for i in range(len(tol_val)):\n",
    "    y_predicted = test(training_set, tol_train_theta[i])\n",
    "\n",
    "    log_df = pd.DataFrame(test_set, columns=['y_actual']) \n",
    "    log_df = pd.concat([log_df, pd.DataFrame(y_predicted)], axis=1, ignore_index=True)\n",
    "    log_df.columns = ['y_actual', 'y_hat']\n",
    "\n",
    "    theshold_val = 0.6\n",
    "    log_df.loc[log_df['y_hat'] >= theshold_val, 'y_pred'] = 1\n",
    "    log_df.loc[log_df['y_hat'] < theshold_val, 'y_pred'] = 0\n",
    "\n",
    "    acc = accuracy_score(log_df['y_actual'], log_df['y_pred'])\n",
    "    tol_train_accuracy.append(acc)"
   ]
  },
  {
   "cell_type": "code",
   "execution_count": 110,
   "metadata": {},
   "outputs": [],
   "source": [
    "tol_test_error = np.ones(len(tol_test_accuracy)) - tol_test_accuracy\n",
    "tol_train_error = np.ones(len(tol_train_accuracy)) - tol_train_accuracy"
   ]
  },
  {
   "cell_type": "code",
   "execution_count": 112,
   "metadata": {
    "scrolled": false
   },
   "outputs": [
    {
     "data": {
      "image/png": "[encoded data removed]",
      "text/plain": [
       "<Figure size 720x504 with 2 Axes>"
      ]
     },
     "metadata": {
      "needs_background": "light"
     },
     "output_type": "display_data"
    }
   ],
   "source": [
    "fig = plt.figure(figsize= (10,7))\n",
    "\n",
    "acc_plot = fig.add_subplot(1,2,1)\n",
    "\n",
    "acc_plot.plot(np.log10(tol_val),tol_train_accuracy,'-b', label='Train')\n",
    "acc_plot.plot(np.log10(tol_val),tol_test_accuracy,'-r', label='Test')\n",
    "acc_plot.legend(loc=\"upper right\")\n",
    "acc_plot.set_ylabel(\"Accuracy\")\n",
    "acc_plot.set_xlabel(\"Log(Tolerance)\")\n",
    "acc_plot.set_title(\"Accuracy vs Log(Tolerance)\")\n",
    "\n",
    "\n",
    "err_plot = fig.add_subplot(1,2,2)\n",
    "\n",
    "err_plot.plot(np.log10(tol_val),tol_train_error,'-b', label='Train')\n",
    "err_plot.plot(np.log10(tol_val),tol_test_error,'-r', label='Test')\n",
    "err_plot.legend(loc=\"upper right\")\n",
    "err_plot.set_ylabel(\"Error\")\n",
    "err_plot.set_xlabel(\"Log(Tolerance)\")\n",
    "err_plot.set_title(\"Error vs Log(Tolerance)\")\n",
    "\n",
    "fig.tight_layout()\n",
    "plt.show()"
   ]
  },
  {
   "cell_type": "code",
   "execution_count": 113,
   "metadata": {},
   "outputs": [
    {
     "name": "stdout",
     "output_type": "stream",
     "text": [
      "The optimal tolerance is 10^-4\n"
     ]
    }
   ],
   "source": [
    "print(\"The optimal tolerance is 10^-4\")"
   ]
  },
  {
   "cell_type": "code",
   "execution_count": null,
   "metadata": {},
   "outputs": [],
   "source": []
  },
  {
   "cell_type": "markdown",
   "metadata": {},
   "source": [
    "# Question 3"
   ]
  },
  {
   "cell_type": "code",
   "execution_count": 130,
   "metadata": {},
   "outputs": [],
   "source": [
    "import random\n",
    "k = random.sample(range(0, 14), 8)\n",
    "\n",
    "\n",
    "# defining feature matrix(X) and response vector(y) \n",
    "X = df.iloc[:,0:8]\n",
    "y = df[\"run_class\"]\n",
    "  \n",
    "\n",
    "\n",
    "# splitting X and y into training and testing sets \n",
    "from sklearn.model_selection import train_test_split \n",
    "X_train, X_test, y_train, y_test = train_test_split(X, y, test_size=0.3, \n",
    "                                                    random_state=1) \n",
    "\n",
    "from sklearn.preprocessing import StandardScaler\n",
    "scaler = StandardScaler()\n",
    "X_train = scaler.fit_transform(X_train)\n",
    "\n",
    "X_test = scaler.fit_transform(X_test)\n",
    "one_column = np.ones((X_test.shape[0],1))\n",
    "X_test = np.concatenate((one_column, X_test), axis = 1)\n",
    "\n",
    "y_test = np.array(y_test).reshape((y_test.shape[0],1))"
   ]
  },
  {
   "cell_type": "code",
   "execution_count": 131,
   "metadata": {},
   "outputs": [
    {
     "data": {
      "text/plain": [
       "Index(['KWG', 'NWG', 'MDIMC', 'MDIMA', 'SA', 'KWI', 'VWN', 'NDIMC'], dtype='object')"
      ]
     },
     "execution_count": 131,
     "metadata": {},
     "output_type": "execute_result"
    }
   ],
   "source": [
    "df.columns[k]"
   ]
  },
  {
   "cell_type": "code",
   "execution_count": 132,
   "metadata": {},
   "outputs": [
    {
     "name": "stdout",
     "output_type": "stream",
     "text": [
      "The best alpha is 0.1\n",
      "The best tolerance value is 10^-4\n",
      "The best threshold is 0.6\n"
     ]
    }
   ],
   "source": [
    "print(\"The best alpha is 0.1\")\n",
    "print(\"The best tolerance value is 10^-4\")\n",
    "print(\"The best threshold is 0.6\")"
   ]
  },
  {
   "cell_type": "code",
   "execution_count": 133,
   "metadata": {},
   "outputs": [
    {
     "name": "stdout",
     "output_type": "stream",
     "text": [
      "Gradient Descent algorithm converged after 194 Iterations\n"
     ]
    }
   ],
   "source": [
    "theta8, trainCost8, testCost8 = logistic_regression(X_train, y_train, 0.1, 10000, True, 10**-4)"
   ]
  },
  {
   "cell_type": "code",
   "execution_count": 134,
   "metadata": {},
   "outputs": [],
   "source": [
    "y_predicted = test(X_test, theta8)\n",
    "\n",
    "log_df = pd.DataFrame(y_test, columns=['y_actual']) \n",
    "log_df = pd.concat([log_df, pd.DataFrame(y_predicted)], axis=1, ignore_index=True)\n",
    "log_df.columns = ['y_actual', 'y_hat']\n",
    "theshold_val = 0.6\n",
    "\n",
    "log_df.loc[log_df['y_hat'] >= theshold_val, 'y_pred'] = 1\n",
    "log_df.loc[log_df['y_hat'] < theshold_val, 'y_pred'] = 0\n",
    "\n",
    "acc_train8 = accuracy_score(log_df['y_actual'], log_df['y_pred'])"
   ]
  },
  {
   "cell_type": "code",
   "execution_count": 135,
   "metadata": {},
   "outputs": [],
   "source": [
    "one_column = np.ones((X_train.shape[0],1))\n",
    "training_set = np.concatenate((one_column, X_train), axis = 1)\n",
    "test_set = np.array(y_train).reshape((y_train.shape[0],1))\n",
    "\n",
    "y_predicted = test(training_set, theta8)\n",
    "\n",
    "log_df = pd.DataFrame(test_set, columns=['y_actual']) \n",
    "log_df = pd.concat([log_df, pd.DataFrame(y_predicted)], axis=1, ignore_index=True)\n",
    "log_df.columns = ['y_actual', 'y_hat']\n",
    "\n",
    "theshold_val = 0.6\n",
    "log_df.loc[log_df['y_hat'] >= theshold_val, 'y_pred'] = 1\n",
    "log_df.loc[log_df['y_hat'] < theshold_val, 'y_pred'] = 0\n",
    "\n",
    "acc_test8 = accuracy_score(log_df['y_actual'], log_df['y_pred'])"
   ]
  },
  {
   "cell_type": "code",
   "execution_count": 149,
   "metadata": {
    "scrolled": true
   },
   "outputs": [
    {
     "name": "stdout",
     "output_type": "stream",
     "text": [
      "0.8224061810154525\n",
      "0.8225579470198675\n",
      "0.8186672185430464\n",
      "0.8186672185430464\n"
     ]
    }
   ],
   "source": [
    "print(acc_train8)\n",
    "print(acc_test8)\n",
    "print(tol_train_accuracy[3])\n",
    "print(tol_train_accuracy[3])"
   ]
  },
  {
   "cell_type": "code",
   "execution_count": 137,
   "metadata": {},
   "outputs": [
    {
     "data": {
      "text/plain": [
       "array([[-0.00247716,  1.11118771,  0.7001912 ,  0.09228744, -0.72096318,\n",
       "        -0.60940893, -0.02931144, -0.06083945, -0.02002037,  0.01353618,\n",
       "        -0.07039227, -0.27833415, -0.02785967, -0.35018893, -0.06876217]])"
      ]
     },
     "execution_count": 137,
     "metadata": {},
     "output_type": "execute_result"
    }
   ],
   "source": [
    "tol_train_theta[3]"
   ]
  },
  {
   "cell_type": "markdown",
   "metadata": {},
   "source": [
    "# Question 4"
   ]
  },
  {
   "cell_type": "code",
   "execution_count": 142,
   "metadata": {},
   "outputs": [],
   "source": [
    "# defining feature matrix(X) and response vector(y) \n",
    "k  =[0,1,3,4,9, 10,12,13]\n",
    "\n",
    "X = df.iloc[:,k]\n",
    "y = df[\"run_class\"]\n",
    "  \n",
    "\n",
    "\n",
    "# splitting X and y into training and testing sets \n",
    "from sklearn.model_selection import train_test_split \n",
    "X_train, X_test, y_train, y_test = train_test_split(X, y, test_size=0.3, \n",
    "                                                    random_state=1) \n",
    "\n",
    "from sklearn.preprocessing import StandardScaler\n",
    "scaler = StandardScaler()\n",
    "X_train = scaler.fit_transform(X_train)\n",
    "\n",
    "X_test = scaler.fit_transform(X_test)\n",
    "one_column = np.ones((X_test.shape[0],1))\n",
    "X_test = np.concatenate((one_column, X_test), axis = 1)\n",
    "\n",
    "y_test = np.array(y_test).reshape((y_test.shape[0],1))"
   ]
  },
  {
   "cell_type": "code",
   "execution_count": 143,
   "metadata": {},
   "outputs": [
    {
     "data": {
      "text/plain": [
       "Index(['MWG', 'NWG', 'MDIMC', 'NDIMC', 'VWN', 'STRM', 'SA', 'SB'], dtype='object')"
      ]
     },
     "execution_count": 143,
     "metadata": {},
     "output_type": "execute_result"
    }
   ],
   "source": [
    "df.columns[k]"
   ]
  },
  {
   "cell_type": "code",
   "execution_count": 144,
   "metadata": {},
   "outputs": [
    {
     "name": "stdout",
     "output_type": "stream",
     "text": [
      "Gradient Descent algorithm converged after 214 Iterations\n"
     ]
    }
   ],
   "source": [
    "theta_best, trainCost_best, testCost_best = logistic_regression(X_train, y_train, 0.1, 10000, True, 10**-4)"
   ]
  },
  {
   "cell_type": "code",
   "execution_count": 145,
   "metadata": {},
   "outputs": [],
   "source": [
    "y_predicted = test(X_test, theta_best)\n",
    "\n",
    "log_df = pd.DataFrame(y_test, columns=['y_actual']) \n",
    "log_df = pd.concat([log_df, pd.DataFrame(y_predicted)], axis=1, ignore_index=True)\n",
    "log_df.columns = ['y_actual', 'y_hat']\n",
    "theshold_val = 0.6\n",
    "\n",
    "log_df.loc[log_df['y_hat'] >= theshold_val, 'y_pred'] = 1\n",
    "log_df.loc[log_df['y_hat'] < theshold_val, 'y_pred'] = 0\n",
    "\n",
    "acc_train_best = accuracy_score(log_df['y_actual'], log_df['y_pred'])"
   ]
  },
  {
   "cell_type": "code",
   "execution_count": 146,
   "metadata": {},
   "outputs": [],
   "source": [
    "one_column = np.ones((X_train.shape[0],1))\n",
    "training_set = np.concatenate((one_column, X_train), axis = 1)\n",
    "test_set = np.array(y_train).reshape((y_train.shape[0],1))\n",
    "\n",
    "y_predicted = test(training_set, theta_best)\n",
    "\n",
    "log_df = pd.DataFrame(test_set, columns=['y_actual']) \n",
    "log_df = pd.concat([log_df, pd.DataFrame(y_predicted)], axis=1, ignore_index=True)\n",
    "log_df.columns = ['y_actual', 'y_hat']\n",
    "\n",
    "theshold_val = 0.6\n",
    "log_df.loc[log_df['y_hat'] >= theshold_val, 'y_pred'] = 1\n",
    "log_df.loc[log_df['y_hat'] < theshold_val, 'y_pred'] = 0\n",
    "\n",
    "acc_test_best = accuracy_score(log_df['y_actual'], log_df['y_pred'])"
   ]
  },
  {
   "cell_type": "code",
   "execution_count": 147,
   "metadata": {},
   "outputs": [
    {
     "name": "stdout",
     "output_type": "stream",
     "text": [
      "0.8172047461368653\n",
      "0.8195364238410596\n"
     ]
    }
   ],
   "source": [
    "print(acc_train_best)\n",
    "print(acc_test_best)"
   ]
  },
  {
   "cell_type": "markdown",
   "metadata": {},
   "source": [
    "# Logistic Regression using sklearn"
   ]
  },
  {
   "cell_type": "code",
   "execution_count": null,
   "metadata": {},
   "outputs": [],
   "source": [
    "from sklearn.linear_model import LogisticRegression\n",
    "from sklearn.metrics import accuracy_score \n",
    "\n",
    "from sklearn.preprocessing import StandardScaler\n",
    "scaler = StandardScaler()\n",
    "\n",
    "X_train = scaler.fit_transform(X_train)\n",
    "X_test = scaler.fit_transform(X_test)\n",
    "\n",
    "model = LogisticRegression()\n",
    "model.fit(X_train, y_train)\n",
    "\n",
    "predicted_classes = model.predict(X_test)\n",
    "accuracy = accuracy_score(y_test,predicted_classes)\n",
    "parameters = model.coef_"
   ]
  },
  {
   "cell_type": "code",
   "execution_count": null,
   "metadata": {},
   "outputs": [],
   "source": [
    "accuracy"
   ]
  }
 ],
 "metadata": {
  "kernelspec": {
   "display_name": "Python 3",
   "language": "python",
   "name": "python3"
  },
  "language_info": {
   "codemirror_mode": {
    "name": "ipython",
    "version": 3
   },
   "file_extension": ".py",
   "mimetype": "text/x-python",
   "name": "python",
   "nbconvert_exporter": "python",
   "pygments_lexer": "ipython3",
   "version": "3.7.4"
  }
 },
 "nbformat": 4,
 "nbformat_minor": 2
}
